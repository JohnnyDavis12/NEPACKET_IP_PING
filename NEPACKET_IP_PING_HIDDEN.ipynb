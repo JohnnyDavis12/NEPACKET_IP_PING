{
 "cells": [
  {
   "cell_type": "code",
   "execution_count": null,
   "metadata": {},
   "outputs": [],
   "source": [
    "import os\n",
    "import time\n",
    "import subprocess\n",
    "from twilio.rest import Client\n",
    "\n",
    "TWILIO_ACCOUNT_SID = '*******************************'\n",
    "TWILIO_AUTH_TOKEN = '*********************************'\n",
    "\n",
    "TWILIO_PHONE_NUMBER = '***********'\n",
    "TO_PHONE_NUMBER = '***********'\n",
    "\n",
    "IP_ADDRESSES = ['***.***.**.***']  \n",
    "\n",
    "client = Client(TWILIO_ACCOUNT_SID, TWILIO_AUTH_TOKEN)\n",
    "\n",
    "def ping_ip(ip):\n",
    "    try:\n",
    "        output = subprocess.check_output(\"ping -c 1 \" + ip, shell=True)\n",
    "        if '1 packets transmitted, 1 received' in output:\n",
    "            return True\n",
    "        else:\n",
    "            return False\n",
    "    except Exception:\n",
    "        return False\n",
    "\n",
    "def send_sms(ip):\n",
    "    message = client.messages.create(\n",
    "        from_=TWILIO_PHONE_NUMBER,\n",
    "        body='Ping failed for IP: ' + ip,\n",
    "        to=TO_PHONE_NUMBER\n",
    "    )\n",
    "\n",
    "while True:\n",
    "    for ip in IP_ADDRESSES:\n",
    "        if not ping_ip(ip):\n",
    "            print(f'Ping failed for IP: {ip}. Sending SMS.')\n",
    "            send_sms(ip)\n",
    "\n",
    "    time.sleep(30)"
   ]
  }
 ],
 "metadata": {
  "kernelspec": {
   "display_name": "Python 3.9.13 ('base')",
   "language": "python",
   "name": "python3"
  },
  "language_info": {
   "codemirror_mode": {
    "name": "ipython",
    "version": 3
   },
   "file_extension": ".py",
   "mimetype": "text/x-python",
   "name": "python",
   "nbconvert_exporter": "python",
   "pygments_lexer": "ipython3",
   "version": "3.9.13"
  },
  "orig_nbformat": 4,
  "vscode": {
   "interpreter": {
    "hash": "ece8b02e9fc008d2bf4aaa30f9b06cdaffafe92b71d54bfc844a320ee0701ab8"
   }
  }
 },
 "nbformat": 4,
 "nbformat_minor": 2
}
